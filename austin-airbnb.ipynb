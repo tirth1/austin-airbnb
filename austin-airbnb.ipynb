{
  "nbformat": 4,
  "nbformat_minor": 0,
  "metadata": {
    "colab": {
      "name": "Untitled3.ipynb",
      "provenance": []
    },
    "kernelspec": {
      "name": "python3",
      "display_name": "Python 3"
    },
    "language_info": {
      "name": "python"
    }
  },
  "cells": [
    {
      "cell_type": "code",
      "metadata": {
        "colab": {
          "base_uri": "https://localhost:8080/"
        },
        "id": "P2Iiq2vTPPL4",
        "outputId": "af111421-3d87-48ab-f1c6-655ca14760c4"
      },
      "source": [
        "from google.colab import drive\n",
        "drive.mount(\"/content/gdrive\")"
      ],
      "execution_count": 1,
      "outputs": [
        {
          "output_type": "stream",
          "text": [
            "Mounted at /content/gdrive\n"
          ],
          "name": "stdout"
        }
      ]
    },
    {
      "cell_type": "code",
      "metadata": {
        "colab": {
          "base_uri": "https://localhost:8080/"
        },
        "id": "zKexauFNQh0o",
        "outputId": "ea975b5f-c83d-4bc9-d8f3-8bb6aecba0e1"
      },
      "source": [
        "!pip install geopandas"
      ],
      "execution_count": 6,
      "outputs": [
        {
          "output_type": "stream",
          "text": [
            "Collecting geopandas\n",
            "\u001b[?25l  Downloading https://files.pythonhosted.org/packages/d7/bf/e9cefb69d39155d122b6ddca53893b61535fa6ffdad70bf5ef708977f53f/geopandas-0.9.0-py2.py3-none-any.whl (994kB)\n",
            "\u001b[K     |████████████████████████████████| 1.0MB 5.0MB/s \n",
            "\u001b[?25hCollecting fiona>=1.8\n",
            "\u001b[?25l  Downloading https://files.pythonhosted.org/packages/ea/2a/404b22883298a3efe9c6ef8d67acbf2c38443fa366ee9cd4cd34e17626ea/Fiona-1.8.19-cp37-cp37m-manylinux1_x86_64.whl (15.3MB)\n",
            "\u001b[K     |████████████████████████████████| 15.3MB 239kB/s \n",
            "\u001b[?25hRequirement already satisfied: pandas>=0.24.0 in /usr/local/lib/python3.7/dist-packages (from geopandas) (1.1.5)\n",
            "Collecting pyproj>=2.2.0\n",
            "\u001b[?25l  Downloading https://files.pythonhosted.org/packages/b1/72/d52e9ca81caef056062d71991b0e9b1d16af042245627c5d0e4916a36c4f/pyproj-3.0.1-cp37-cp37m-manylinux2010_x86_64.whl (6.5MB)\n",
            "\u001b[K     |████████████████████████████████| 6.5MB 27.2MB/s \n",
            "\u001b[?25hRequirement already satisfied: shapely>=1.6 in /usr/local/lib/python3.7/dist-packages (from geopandas) (1.7.1)\n",
            "Requirement already satisfied: attrs>=17 in /usr/local/lib/python3.7/dist-packages (from fiona>=1.8->geopandas) (20.3.0)\n",
            "Collecting cligj>=0.5\n",
            "  Downloading https://files.pythonhosted.org/packages/42/1e/947eadf10d6804bf276eb8a038bd5307996dceaaa41cfd21b7a15ec62f5d/cligj-0.7.1-py3-none-any.whl\n",
            "Requirement already satisfied: six>=1.7 in /usr/local/lib/python3.7/dist-packages (from fiona>=1.8->geopandas) (1.15.0)\n",
            "Collecting munch\n",
            "  Downloading https://files.pythonhosted.org/packages/cc/ab/85d8da5c9a45e072301beb37ad7f833cd344e04c817d97e0cc75681d248f/munch-2.5.0-py2.py3-none-any.whl\n",
            "Requirement already satisfied: click<8,>=4.0 in /usr/local/lib/python3.7/dist-packages (from fiona>=1.8->geopandas) (7.1.2)\n",
            "Collecting click-plugins>=1.0\n",
            "  Downloading https://files.pythonhosted.org/packages/e9/da/824b92d9942f4e472702488857914bdd50f73021efea15b4cad9aca8ecef/click_plugins-1.1.1-py2.py3-none-any.whl\n",
            "Requirement already satisfied: certifi in /usr/local/lib/python3.7/dist-packages (from fiona>=1.8->geopandas) (2020.12.5)\n",
            "Requirement already satisfied: pytz>=2017.2 in /usr/local/lib/python3.7/dist-packages (from pandas>=0.24.0->geopandas) (2018.9)\n",
            "Requirement already satisfied: python-dateutil>=2.7.3 in /usr/local/lib/python3.7/dist-packages (from pandas>=0.24.0->geopandas) (2.8.1)\n",
            "Requirement already satisfied: numpy>=1.15.4 in /usr/local/lib/python3.7/dist-packages (from pandas>=0.24.0->geopandas) (1.19.5)\n",
            "Installing collected packages: cligj, munch, click-plugins, fiona, pyproj, geopandas\n",
            "Successfully installed click-plugins-1.1.1 cligj-0.7.1 fiona-1.8.19 geopandas-0.9.0 munch-2.5.0 pyproj-3.0.1\n"
          ],
          "name": "stdout"
        }
      ]
    },
    {
      "cell_type": "code",
      "metadata": {
        "id": "elyrAqiPPrYh"
      },
      "source": [
        "import numpy as np\n",
        "import pandas as pd\n",
        "import geopandas as gpd\n",
        "import seaborn as sns\n",
        "import matplotlib.pyplot as plt\n",
        "%matplotlib inline"
      ],
      "execution_count": 7,
      "outputs": []
    },
    {
      "cell_type": "code",
      "metadata": {
        "id": "8Xe5QnQ5QAaH"
      },
      "source": [
        "listings = pd.read_csv('/content/gdrive/My Drive/austin-airbnb/listings.csv')"
      ],
      "execution_count": 3,
      "outputs": []
    },
    {
      "cell_type": "code",
      "metadata": {
        "colab": {
          "base_uri": "https://localhost:8080/",
          "height": 581
        },
        "id": "cQ_SGFSbQJYI",
        "outputId": "20136f29-ef24-42dd-ca65-2a1fac571c4d"
      },
      "source": [
        "listings.head()"
      ],
      "execution_count": 4,
      "outputs": [
        {
          "output_type": "execute_result",
          "data": {
            "text/html": [
              "<div>\n",
              "<style scoped>\n",
              "    .dataframe tbody tr th:only-of-type {\n",
              "        vertical-align: middle;\n",
              "    }\n",
              "\n",
              "    .dataframe tbody tr th {\n",
              "        vertical-align: top;\n",
              "    }\n",
              "\n",
              "    .dataframe thead th {\n",
              "        text-align: right;\n",
              "    }\n",
              "</style>\n",
              "<table border=\"1\" class=\"dataframe\">\n",
              "  <thead>\n",
              "    <tr style=\"text-align: right;\">\n",
              "      <th></th>\n",
              "      <th>id</th>\n",
              "      <th>name</th>\n",
              "      <th>host_id</th>\n",
              "      <th>host_name</th>\n",
              "      <th>neighbourhood_group</th>\n",
              "      <th>neighbourhood</th>\n",
              "      <th>latitude</th>\n",
              "      <th>longitude</th>\n",
              "      <th>room_type</th>\n",
              "      <th>price</th>\n",
              "      <th>minimum_nights</th>\n",
              "      <th>number_of_reviews</th>\n",
              "      <th>last_review</th>\n",
              "      <th>reviews_per_month</th>\n",
              "      <th>calculated_host_listings_count</th>\n",
              "      <th>availability_365</th>\n",
              "    </tr>\n",
              "  </thead>\n",
              "  <tbody>\n",
              "    <tr>\n",
              "      <th>0</th>\n",
              "      <td>2265</td>\n",
              "      <td>Zen-East in the Heart of Austin (monthly rental)</td>\n",
              "      <td>2466</td>\n",
              "      <td>Paddy</td>\n",
              "      <td>NaN</td>\n",
              "      <td>78702</td>\n",
              "      <td>30.27750</td>\n",
              "      <td>-97.71398</td>\n",
              "      <td>Entire home/apt</td>\n",
              "      <td>200</td>\n",
              "      <td>7</td>\n",
              "      <td>24</td>\n",
              "      <td>2019-03-16</td>\n",
              "      <td>0.17</td>\n",
              "      <td>3</td>\n",
              "      <td>131</td>\n",
              "    </tr>\n",
              "    <tr>\n",
              "      <th>1</th>\n",
              "      <td>5245</td>\n",
              "      <td>Eco friendly, Colorful, Clean, Cozy monthly share</td>\n",
              "      <td>2466</td>\n",
              "      <td>Paddy</td>\n",
              "      <td>NaN</td>\n",
              "      <td>78702</td>\n",
              "      <td>30.27577</td>\n",
              "      <td>-97.71379</td>\n",
              "      <td>Private room</td>\n",
              "      <td>114</td>\n",
              "      <td>30</td>\n",
              "      <td>9</td>\n",
              "      <td>2018-03-14</td>\n",
              "      <td>0.06</td>\n",
              "      <td>3</td>\n",
              "      <td>0</td>\n",
              "    </tr>\n",
              "    <tr>\n",
              "      <th>2</th>\n",
              "      <td>5456</td>\n",
              "      <td>Walk to 6th, Rainey St and Convention Ctr</td>\n",
              "      <td>8028</td>\n",
              "      <td>Sylvia</td>\n",
              "      <td>NaN</td>\n",
              "      <td>78702</td>\n",
              "      <td>30.26112</td>\n",
              "      <td>-97.73448</td>\n",
              "      <td>Entire home/apt</td>\n",
              "      <td>104</td>\n",
              "      <td>2</td>\n",
              "      <td>543</td>\n",
              "      <td>2021-02-01</td>\n",
              "      <td>3.74</td>\n",
              "      <td>1</td>\n",
              "      <td>354</td>\n",
              "    </tr>\n",
              "    <tr>\n",
              "      <th>3</th>\n",
              "      <td>5636</td>\n",
              "      <td>Soco, Barton Springs Private Guest Cottage</td>\n",
              "      <td>7148</td>\n",
              "      <td>Peggy</td>\n",
              "      <td>NaN</td>\n",
              "      <td>78704</td>\n",
              "      <td>30.24630</td>\n",
              "      <td>-97.76361</td>\n",
              "      <td>Entire home/apt</td>\n",
              "      <td>46</td>\n",
              "      <td>30</td>\n",
              "      <td>21</td>\n",
              "      <td>2020-11-06</td>\n",
              "      <td>0.15</td>\n",
              "      <td>2</td>\n",
              "      <td>67</td>\n",
              "    </tr>\n",
              "    <tr>\n",
              "      <th>4</th>\n",
              "      <td>5769</td>\n",
              "      <td>NW Austin Room</td>\n",
              "      <td>8186</td>\n",
              "      <td>Elizabeth</td>\n",
              "      <td>NaN</td>\n",
              "      <td>78729</td>\n",
              "      <td>30.45697</td>\n",
              "      <td>-97.78422</td>\n",
              "      <td>Private room</td>\n",
              "      <td>39</td>\n",
              "      <td>1</td>\n",
              "      <td>259</td>\n",
              "      <td>2021-02-10</td>\n",
              "      <td>1.96</td>\n",
              "      <td>1</td>\n",
              "      <td>79</td>\n",
              "    </tr>\n",
              "  </tbody>\n",
              "</table>\n",
              "</div>"
            ],
            "text/plain": [
              "     id  ... availability_365\n",
              "0  2265  ...              131\n",
              "1  5245  ...                0\n",
              "2  5456  ...              354\n",
              "3  5636  ...               67\n",
              "4  5769  ...               79\n",
              "\n",
              "[5 rows x 16 columns]"
            ]
          },
          "metadata": {
            "tags": []
          },
          "execution_count": 4
        }
      ]
    },
    {
      "cell_type": "code",
      "metadata": {
        "colab": {
          "base_uri": "https://localhost:8080/",
          "height": 204
        },
        "id": "bhp1iBwaQLcE",
        "outputId": "22569ae6-b6f2-4783-be02-820d09360f0c"
      },
      "source": [
        "nhoods = gpd.read_file('/content/gdrive/My Drive/austin-airbnb/neighbourhoods.geojson')\n",
        "\n",
        "nhoods.head()"
      ],
      "execution_count": 8,
      "outputs": [
        {
          "output_type": "execute_result",
          "data": {
            "text/html": [
              "<div>\n",
              "<style scoped>\n",
              "    .dataframe tbody tr th:only-of-type {\n",
              "        vertical-align: middle;\n",
              "    }\n",
              "\n",
              "    .dataframe tbody tr th {\n",
              "        vertical-align: top;\n",
              "    }\n",
              "\n",
              "    .dataframe thead th {\n",
              "        text-align: right;\n",
              "    }\n",
              "</style>\n",
              "<table border=\"1\" class=\"dataframe\">\n",
              "  <thead>\n",
              "    <tr style=\"text-align: right;\">\n",
              "      <th></th>\n",
              "      <th>neighbourhood</th>\n",
              "      <th>neighbourhood_group</th>\n",
              "      <th>geometry</th>\n",
              "    </tr>\n",
              "  </thead>\n",
              "  <tbody>\n",
              "    <tr>\n",
              "      <th>0</th>\n",
              "      <td>78739</td>\n",
              "      <td>None</td>\n",
              "      <td>MULTIPOLYGON (((-97.89002 30.20941, -97.88929 ...</td>\n",
              "    </tr>\n",
              "    <tr>\n",
              "      <th>1</th>\n",
              "      <td>78754</td>\n",
              "      <td>None</td>\n",
              "      <td>MULTIPOLYGON (((-97.63658 30.40266, -97.63754 ...</td>\n",
              "    </tr>\n",
              "    <tr>\n",
              "      <th>2</th>\n",
              "      <td>78732</td>\n",
              "      <td>None</td>\n",
              "      <td>MULTIPOLYGON (((-97.87303 30.43806, -97.87335 ...</td>\n",
              "    </tr>\n",
              "    <tr>\n",
              "      <th>3</th>\n",
              "      <td>78737</td>\n",
              "      <td>None</td>\n",
              "      <td>MULTIPOLYGON (((-98.01876 30.24167, -98.01617 ...</td>\n",
              "    </tr>\n",
              "    <tr>\n",
              "      <th>4</th>\n",
              "      <td>78756</td>\n",
              "      <td>None</td>\n",
              "      <td>MULTIPOLYGON (((-97.72792 30.32906, -97.72760 ...</td>\n",
              "    </tr>\n",
              "  </tbody>\n",
              "</table>\n",
              "</div>"
            ],
            "text/plain": [
              "  neighbourhood  ...                                           geometry\n",
              "0         78739  ...  MULTIPOLYGON (((-97.89002 30.20941, -97.88929 ...\n",
              "1         78754  ...  MULTIPOLYGON (((-97.63658 30.40266, -97.63754 ...\n",
              "2         78732  ...  MULTIPOLYGON (((-97.87303 30.43806, -97.87335 ...\n",
              "3         78737  ...  MULTIPOLYGON (((-98.01876 30.24167, -98.01617 ...\n",
              "4         78756  ...  MULTIPOLYGON (((-97.72792 30.32906, -97.72760 ...\n",
              "\n",
              "[5 rows x 3 columns]"
            ]
          },
          "metadata": {
            "tags": []
          },
          "execution_count": 8
        }
      ]
    },
    {
      "cell_type": "code",
      "metadata": {
        "id": "6MNgLJ0FQ60d"
      },
      "source": [
        "grouped_df = listings.groupby(by='neighbourhood')"
      ],
      "execution_count": 14,
      "outputs": []
    },
    {
      "cell_type": "code",
      "metadata": {
        "id": "cRQaxFI6RzEQ"
      },
      "source": [
        "top_listings = listings['neighbourhood'].value_counts()"
      ],
      "execution_count": 41,
      "outputs": []
    },
    {
      "cell_type": "code",
      "metadata": {
        "id": "xfcGjOxaThYU"
      },
      "source": [
        "nhoods['neighbourhood'] = nhoods['neighbourhood'].astype(int)"
      ],
      "execution_count": 42,
      "outputs": []
    },
    {
      "cell_type": "code",
      "metadata": {
        "colab": {
          "base_uri": "https://localhost:8080/",
          "height": 80
        },
        "id": "5OC-MO_aTlNN",
        "outputId": "71f795a7-b394-40b3-ed78-127d8ddca9fe"
      },
      "source": [
        "nhoods[nhoods['neighbourhood']=='78704']"
      ],
      "execution_count": 40,
      "outputs": [
        {
          "output_type": "execute_result",
          "data": {
            "text/html": [
              "<div>\n",
              "<style scoped>\n",
              "    .dataframe tbody tr th:only-of-type {\n",
              "        vertical-align: middle;\n",
              "    }\n",
              "\n",
              "    .dataframe tbody tr th {\n",
              "        vertical-align: top;\n",
              "    }\n",
              "\n",
              "    .dataframe thead th {\n",
              "        text-align: right;\n",
              "    }\n",
              "</style>\n",
              "<table border=\"1\" class=\"dataframe\">\n",
              "  <thead>\n",
              "    <tr style=\"text-align: right;\">\n",
              "      <th></th>\n",
              "      <th>neighbourhood</th>\n",
              "      <th>neighbourhood_group</th>\n",
              "      <th>geometry</th>\n",
              "    </tr>\n",
              "  </thead>\n",
              "  <tbody>\n",
              "    <tr>\n",
              "      <th>29</th>\n",
              "      <td>78704</td>\n",
              "      <td>None</td>\n",
              "      <td>MULTIPOLYGON (((-97.75447 30.26507, -97.75410 ...</td>\n",
              "    </tr>\n",
              "  </tbody>\n",
              "</table>\n",
              "</div>"
            ],
            "text/plain": [
              "   neighbourhood  ...                                           geometry\n",
              "29         78704  ...  MULTIPOLYGON (((-97.75447 30.26507, -97.75410 ...\n",
              "\n",
              "[1 rows x 3 columns]"
            ]
          },
          "metadata": {
            "tags": []
          },
          "execution_count": 40
        }
      ]
    },
    {
      "cell_type": "code",
      "metadata": {
        "id": "y7AoSPTuT30z"
      },
      "source": [
        "top_listing = list(top_listings.keys())"
      ],
      "execution_count": 52,
      "outputs": []
    },
    {
      "cell_type": "code",
      "metadata": {
        "id": "53ie_p_qXMpn"
      },
      "source": [
        "def myfunc(str):\n",
        "  return str['geometry']"
      ],
      "execution_count": 58,
      "outputs": []
    },
    {
      "cell_type": "code",
      "metadata": {
        "colab": {
          "base_uri": "https://localhost:8080/"
        },
        "id": "ctmQr3hSUs-v",
        "outputId": "bed86358-31ff-426e-bbec-9d91974fdc18"
      },
      "source": [
        "for i in range(0,5):\n",
        "  geometry = map(myfunc, nhoods['geometry'][nhoods['neighbourhood']==top_listing[i]])\n",
        "  print(geometry)"
      ],
      "execution_count": 59,
      "outputs": [
        {
          "output_type": "stream",
          "text": [
            "<map object at 0x7fbedaa7f210>\n",
            "<map object at 0x7fbedaacdc50>\n",
            "<map object at 0x7fbedaacd350>\n",
            "<map object at 0x7fbedaacda90>\n",
            "<map object at 0x7fbedaacd910>\n"
          ],
          "name": "stdout"
        }
      ]
    },
    {
      "cell_type": "code",
      "metadata": {
        "id": "kInsWieUZh24"
      },
      "source": [
        "listings['geometry'] = nhoods['geometry'][nhoods['neighbourhood']==top_listing[i]]"
      ],
      "execution_count": null,
      "outputs": []
    },
    {
      "cell_type": "code",
      "metadata": {
        "id": "x2QkeK88Vzqc"
      },
      "source": [
        "df = pd.DataFrame(columns=['neighbourhood', 'geometry'])"
      ],
      "execution_count": 57,
      "outputs": []
    }
  ]
}